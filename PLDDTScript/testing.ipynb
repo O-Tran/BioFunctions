{
 "cells": [
  {
   "cell_type": "markdown",
   "metadata": {},
   "source": []
  },
  {
   "cell_type": "code",
   "execution_count": 17,
   "metadata": {},
   "outputs": [],
   "source": [
    "from Bio.PDB.PDBParser import PDBParser\n",
    "\n",
    "\n",
    "from Bio import  __version__\n",
    "import argparse\n",
    "\n",
    "import statistics\n"
   ]
  },
  {
   "cell_type": "code",
   "execution_count": null,
   "metadata": {},
   "outputs": [],
   "source": [
    "## old \n",
    "\n",
    "print('########## Biopython  VERSION #####################################')\n",
    "print('\\n BIOPYTHON_VERSION : ', __version__ ,'\\n')\n",
    "print('###################################################################')\n",
    "\n",
    "\n",
    "def findBfactor(structurefile): \n",
    "\n",
    "    structure = PDBParser(PERMISSIVE = False , QUIET=False).get_structure('X',structurefile)\n",
    "\n",
    "    atom_list = structure.get_atoms()  ## its actually a generator , that get emptied when cycled ## need residues ??? \n",
    "\n",
    "    print('atom_list : \\n ', [i for i in atom_list],'\\n\\n')\n",
    "\n",
    "\n",
    "    atom_list = structure.get_atoms() ## its actually a generator , that get emptied when cycled\n",
    "\n",
    "\n",
    "    for atom in atom_list:\n",
    "    \n",
    "        print( atom ,' : ',  atom.get_serial_number() , ' -----------> ' , atom.get_bfactor())\n",
    "        "
   ]
  },
  {
   "cell_type": "code",
   "execution_count": 22,
   "metadata": {},
   "outputs": [
    {
     "name": "stdout",
     "output_type": "stream",
     "text": [
      "atom_list : \n",
      "  [<Atom N>, <Atom CA>, <Atom C>, <Atom CB>, <Atom O>, <Atom CG>, <Atom CD1>, <Atom CD2>, <Atom CE1>, <Atom CE2>, <Atom CZ>, <Atom N>, <Atom CA>, <Atom C>, <Atom CB>, <Atom O>, <Atom CG1>, <Atom CG2>, <Atom CD1>, <Atom N>, <Atom CA>, <Atom C>, <Atom CB>, <Atom O>, <Atom CG>, <Atom CD1>, <Atom CD2>, <Atom N>, <Atom CA>, <Atom C>, <Atom CB>, <Atom O>, <Atom CG2>, <Atom OG1>, <Atom N>, <Atom CA>, <Atom C>, <Atom CB>, <Atom O>, <Atom CG>, <Atom CD>, <Atom OE1>, <Atom OE2>, <Atom N>, <Atom CA>, <Atom C>, <Atom CB>, <Atom O>, <Atom CG>, <Atom CD>, <Atom NE>, <Atom NH1>, <Atom NH2>, <Atom CZ>, <Atom N>, <Atom CA>, <Atom C>, <Atom CB>, <Atom O>, <Atom CG>, <Atom CD1>, <Atom CD2>, <Atom N>, <Atom CA>, <Atom C>, <Atom O>, <Atom N>, <Atom CA>, <Atom C>, <Atom CB>, <Atom O>, <Atom OG>, <Atom N>, <Atom CA>, <Atom C>, <Atom O>, <Atom N>, <Atom CA>, <Atom C>, <Atom CB>, <Atom O>, <Atom CG2>, <Atom OG1>, <Atom N>, <Atom CA>, <Atom C>, <Atom CB>, <Atom O>, <Atom CG>, <Atom CD1>, <Atom CD2>, <Atom CE1>, <Atom CE2>, <Atom OH>, <Atom CZ>, <Atom N>, <Atom CA>, <Atom C>, <Atom CB>, <Atom O>, <Atom N>, <Atom CA>, <Atom C>, <Atom CB>, <Atom O>, <Atom CG2>, <Atom OG1>, <Atom N>, <Atom CA>, <Atom C>, <Atom CB>, <Atom O>, <Atom CG1>, <Atom CG2>, <Atom N>, <Atom CA>, <Atom C>, <Atom CB>, <Atom O>, <Atom CG>, <Atom CD1>, <Atom CD2>, <Atom CE1>, <Atom CE2>, <Atom OH>, <Atom CZ>, <Atom N>, <Atom CA>, <Atom C>, <Atom CB>, <Atom O>, <Atom CG>, <Atom CD>, <Atom CE>, <Atom NZ>, <Atom N>, <Atom CA>, <Atom C>, <Atom CB>, <Atom O>, <Atom N>, <Atom CA>, <Atom C>, <Atom CB>, <Atom O>, <Atom CG>, <Atom CD1>, <Atom CD2>, <Atom CE1>, <Atom CE2>, <Atom OH>, <Atom CZ>, <Atom N>, <Atom CA>, <Atom C>, <Atom CB>, <Atom O>, <Atom N>, <Atom CA>, <Atom C>, <Atom CB>, <Atom O>, <Atom CG>, <Atom CD>, <Atom CE>, <Atom NZ>, <Atom N>, <Atom CA>, <Atom C>, <Atom CB>, <Atom O>, <Atom CG>, <Atom CD>, <Atom CE>, <Atom NZ>, <Atom N>, <Atom CA>, <Atom C>, <Atom CB>, <Atom O>, <Atom CG>, <Atom OD1>, <Atom OD2>, <Atom N>, <Atom CA>, <Atom C>, <Atom CB>, <Atom O>, <Atom CG2>, <Atom OG1>, <Atom N>, <Atom CA>, <Atom C>, <Atom CB>, <Atom O>, <Atom CG>, <Atom CD>, <Atom NE>, <Atom NH1>, <Atom NH2>, <Atom CZ>, <Atom N>, <Atom CA>, <Atom C>, <Atom CB>, <Atom O>, <Atom CG>, <Atom CD>, <Atom OE1>, <Atom OE2>, <Atom N>, <Atom CA>, <Atom C>, <Atom CB>, <Atom O>, <Atom CG1>, <Atom CG2>, <Atom N>, <Atom CA>, <Atom C>, <Atom CB>, <Atom O>, <Atom CG1>, <Atom CG2>, <Atom N>, <Atom CA>, <Atom C>, <Atom CB>, <Atom O>, <Atom N>, <Atom CA>, <Atom C>, <Atom CB>, <Atom O>, <Atom CG1>, <Atom CG2>, <Atom CD1>, <Atom N>, <Atom CA>, <Atom C>, <Atom CB>, <Atom O>, <Atom CG>, <Atom CD>, <Atom CE>, <Atom NZ>, <Atom N>, <Atom CA>, <Atom C>, <Atom CB>, <Atom O>, <Atom SG>, <Atom N>, <Atom CA>, <Atom C>, <Atom CB>, <Atom O>, <Atom CG1>, <Atom CG2>, <Atom N>, <Atom CA>, <Atom C>, <Atom CB>, <Atom O>, <Atom N>, <Atom CA>, <Atom C>, <Atom CB>, <Atom O>, <Atom CG>, <Atom CD>, <Atom CE>, <Atom NZ>, <Atom N>, <Atom CA>, <Atom C>, <Atom CB>, <Atom O>, <Atom CG>, <Atom CD>, <Atom CE>, <Atom NZ>, <Atom N>, <Atom CA>, <Atom C>, <Atom CB>, <Atom O>, <Atom OG>, <Atom N>, <Atom CA>, <Atom C>, <Atom CB>, <Atom O>, <Atom CG>, <Atom CD1>, <Atom CD2>, <Atom N>, <Atom CA>, <Atom C>, <Atom CB>, <Atom O>, <Atom CG>, <Atom ND2>, <Atom OD1>, <Atom N>, <Atom CA>, <Atom C>, <Atom CB>, <Atom O>, <Atom CG>, <Atom CD>, <Atom CE>, <Atom NZ>, <Atom N>, <Atom CA>, <Atom C>, <Atom CB>, <Atom O>, <Atom N>, <Atom CA>, <Atom C>, <Atom CB>, <Atom O>, <Atom OG>, <Atom N>, <Atom CA>, <Atom C>, <Atom CB>, <Atom O>, <Atom CG1>, <Atom CG2>, <Atom N>, <Atom CA>, <Atom C>, <Atom CB>, <Atom O>, <Atom CG>, <Atom CD>, <Atom OE1>, <Atom OE2>, <Atom N>, <Atom CA>, <Atom C>, <Atom CB>, <Atom O>, <Atom CG>, <Atom ND2>, <Atom OD1>, <Atom N>, <Atom CA>, <Atom C>, <Atom CB>, <Atom O>, <Atom CG>, <Atom CD1>, <Atom CD2>, <Atom N>, <Atom CA>, <Atom C>, <Atom CB>, <Atom O>, <Atom CG>, <Atom CD1>, <Atom CD2>, <Atom N>, <Atom CA>, <Atom C>, <Atom CB>, <Atom O>, <Atom CG2>, <Atom OG1>, <Atom N>, <Atom CA>, <Atom C>, <Atom CB>, <Atom O>, <Atom CG>, <Atom CD>, <Atom OE1>, <Atom OE2>, <Atom N>, <Atom CA>, <Atom C>, <Atom CB>, <Atom O>, <Atom CG1>, <Atom CG2>, <Atom CD1>, <Atom N>, <Atom CA>, <Atom C>, <Atom CB>, <Atom O>, <Atom CG>, <Atom CD>, <Atom OE1>, <Atom OE2>, <Atom N>, <Atom CA>, <Atom C>, <Atom CB>, <Atom O>, <Atom CG1>, <Atom CG2>, <Atom CD1>, <Atom N>, <Atom CA>, <Atom C>, <Atom CB>, <Atom O>, <Atom CG>, <Atom CD1>, <Atom CD2>, <Atom N>, <Atom CA>, <Atom C>, <Atom CB>, <Atom O>, <Atom CG>, <Atom CD>, <Atom CE>, <Atom NZ>, <Atom N>, <Atom CA>, <Atom C>, <Atom O>, <Atom N>, <Atom CA>, <Atom C>, <Atom CB>, <Atom O>, <Atom CG1>, <Atom CG2>, <Atom CD1>, <Atom N>, <Atom CA>, <Atom C>, <Atom CB>, <Atom O>, <Atom CG>, <Atom CD>, <Atom NE>, <Atom NH1>, <Atom NH2>, <Atom CZ>, <Atom N>, <Atom CA>, <Atom C>, <Atom CB>, <Atom O>, <Atom CG>, <Atom CD2>, <Atom ND1>, <Atom CE1>, <Atom NE2>, <Atom N>, <Atom CA>, <Atom C>, <Atom CB>, <Atom O>, <Atom CG>, <Atom CD>, <Atom N>, <Atom CA>, <Atom C>, <Atom CB>, <Atom O>, <Atom CG>, <Atom CD2>, <Atom ND1>, <Atom CE1>, <Atom NE2>, <Atom N>, <Atom CA>, <Atom C>, <Atom CB>, <Atom O>, <Atom CG1>, <Atom CG2>, <Atom CD1>, <Atom N>, <Atom CA>, <Atom C>, <Atom CB>, <Atom O>, <Atom CG1>, <Atom CG2>, <Atom N>, <Atom CA>, <Atom C>, <Atom CB>, <Atom O>, <Atom CG>, <Atom CD>, <Atom NE2>, <Atom OE1>, <Atom N>, <Atom CA>, <Atom C>, <Atom CB>, <Atom O>, <Atom CG>, <Atom CD1>, <Atom CD2>, <Atom N>, <Atom CA>, <Atom C>, <Atom CB>, <Atom O>, <Atom CG>, <Atom CD>, <Atom CE>, <Atom NZ>, <Atom N>, <Atom CA>, <Atom C>, <Atom CB>, <Atom O>, <Atom CG>, <Atom OD1>, <Atom OD2>, <Atom N>, <Atom CA>, <Atom C>, <Atom CB>, <Atom O>, <Atom CG>, <Atom CD1>, <Atom CD2>, <Atom CE1>, <Atom CE2>, <Atom CZ>, <Atom N>, <Atom CA>, <Atom C>, <Atom CB>, <Atom O>, <Atom CG>, <Atom CD>, <Atom NE2>, <Atom OE1>, <Atom N>, <Atom CA>, <Atom C>, <Atom CB>, <Atom O>, <Atom CG>, <Atom CD1>, <Atom CD2>, <Atom CE2>, <Atom CE3>, <Atom NE1>, <Atom CH2>, <Atom CZ2>, <Atom CZ3>, <Atom N>, <Atom CA>, <Atom C>, <Atom CB>, <Atom O>, <Atom CG>, <Atom OD1>, <Atom OD2>, <Atom N>, <Atom CA>, <Atom C>, <Atom CB>, <Atom O>, <Atom OG>, <Atom N>, <Atom CA>, <Atom C>, <Atom CB>, <Atom O>, <Atom CG>, <Atom OD1>, <Atom OD2>, <Atom N>, <Atom CA>, <Atom C>, <Atom CB>, <Atom O>, <Atom CG>, <Atom ND2>, <Atom OD1>, <Atom N>, <Atom CA>, <Atom C>, <Atom CB>, <Atom O>, <Atom CG1>, <Atom CG2>, <Atom CD1>, <Atom N>, <Atom CA>, <Atom C>, <Atom CB>, <Atom O>, <Atom CG>, <Atom CD1>, <Atom CD2>, <Atom CE1>, <Atom CE2>, <Atom OH>, <Atom CZ>, <Atom N>, <Atom CA>, <Atom C>, <Atom CB>, <Atom O>, <Atom CG>, <Atom CD1>, <Atom CD2>, <Atom N>, <Atom CA>, <Atom C>, <Atom CB>, <Atom O>, <Atom CG1>, <Atom CG2>, <Atom CD1>, <Atom N>, <Atom CA>, <Atom C>, <Atom CB>, <Atom O>, <Atom CG>, <Atom SD>, <Atom CE>, <Atom N>, <Atom CA>, <Atom C>, <Atom CB>, <Atom O>, <Atom CG>, <Atom CD>, <Atom OE1>, <Atom OE2>, <Atom N>, <Atom CA>, <Atom C>, <Atom CB>, <Atom O>, <Atom CG>, <Atom CD1>, <Atom CD2>, <Atom CE1>, <Atom CE2>, <Atom CZ>, <Atom N>, <Atom CA>, <Atom C>, <Atom CB>, <Atom O>, <Atom SG>, <Atom N>, <Atom CA>, <Atom C>, <Atom CB>, <Atom O>, <Atom N>, <Atom CA>, <Atom C>, <Atom O>, <Atom N>, <Atom CA>, <Atom C>, <Atom O>, <Atom N>, <Atom CA>, <Atom C>, <Atom CB>, <Atom O>, <Atom CG>, <Atom OD1>, <Atom OD2>, <Atom N>, <Atom CA>, <Atom C>, <Atom CB>, <Atom O>, <Atom CG>, <Atom CD1>, <Atom CD2>, <Atom N>, <Atom CA>, <Atom C>, <Atom CB>, <Atom O>, <Atom OG>, <Atom N>, <Atom CA>, <Atom C>, <Atom CB>, <Atom O>, <Atom CG>, <Atom CD>, <Atom NE>, <Atom NH1>, <Atom NH2>, <Atom CZ>, <Atom N>, <Atom CA>, <Atom C>, <Atom CB>, <Atom O>, <Atom CG>, <Atom CD1>, <Atom CD2>, <Atom CE1>, <Atom CE2>, <Atom CZ>, <Atom N>, <Atom CA>, <Atom C>, <Atom CB>, <Atom O>, <Atom CG1>, <Atom CG2>, <Atom CD1>, <Atom N>, <Atom CA>, <Atom C>, <Atom CB>, <Atom O>, <Atom CG>, <Atom CD2>, <Atom ND1>, <Atom CE1>, <Atom NE2>, <Atom N>, <Atom CA>, <Atom C>, <Atom CB>, <Atom O>, <Atom CG2>, <Atom OG1>, <Atom N>, <Atom CA>, <Atom C>, <Atom CB>, <Atom O>, <Atom CG>, <Atom CD>, <Atom NE>, <Atom NH1>, <Atom NH2>, <Atom CZ>, <Atom N>, <Atom CA>, <Atom C>, <Atom CB>, <Atom O>, <Atom CG>, <Atom CD>, <Atom NE>, <Atom NH1>, <Atom NH2>, <Atom CZ>, <Atom N>, <Atom CA>, <Atom C>, <Atom CB>, <Atom O>, <Atom CG1>, <Atom CG2>, <Atom CD1>, <Atom N>, <Atom CA>, <Atom C>, <Atom CB>, <Atom O>, <Atom CG>, <Atom CD1>, <Atom CD2>, <Atom N>, <Atom CA>, <Atom C>, <Atom CB>, <Atom O>, <Atom CG>, <Atom CD>, <Atom N>, <Atom CA>, <Atom C>, <Atom CB>, <Atom O>, <Atom CG>, <Atom CD>, <Atom OE1>, <Atom OE2>, <Atom N>, <Atom CA>, <Atom C>, <Atom CB>, <Atom O>, <Atom CG>, <Atom CD>, <Atom CE>, <Atom NZ>, <Atom N>, <Atom CA>, <Atom C>, <Atom CB>, <Atom O>, <Atom CG1>, <Atom CG2>, <Atom N>, <Atom CA>, <Atom C>, <Atom CB>, <Atom O>, <Atom N>, <Atom CA>, <Atom C>, <Atom CB>, <Atom O>, <Atom CG>, <Atom CD>, <Atom NE>, <Atom NH1>, <Atom NH2>, <Atom CZ>, <Atom N>, <Atom CA>, <Atom C>, <Atom CB>, <Atom O>, <Atom CG1>, <Atom CG2>, <Atom N>, <Atom CA>, <Atom C>, <Atom CB>, <Atom O>, <Atom CG>, <Atom CD1>, <Atom CD2>, <Atom CE1>, <Atom CE2>, <Atom CZ>, <Atom N>, <Atom CA>, <Atom C>, <Atom CB>, <Atom O>, <Atom CG>, <Atom SD>, <Atom CE>, <Atom N>, <Atom CA>, <Atom C>, <Atom CB>, <Atom O>, <Atom CG>, <Atom CD>, <Atom NE2>, <Atom OE1>, <Atom N>, <Atom CA>, <Atom C>, <Atom CB>, <Atom O>, <Atom CG>, <Atom CD>, <Atom NE2>, <Atom OE1>, <Atom N>, <Atom CA>, <Atom C>, <Atom CB>, <Atom O>, <Atom CG>, <Atom CD1>, <Atom CD2>, <Atom N>, <Atom CA>, <Atom C>, <Atom CB>, <Atom O>, <Atom N>, <Atom CA>, <Atom C>, <Atom CB>, <Atom O>, <Atom OG>, <Atom N>, <Atom CA>, <Atom C>, <Atom CB>, <Atom O>, <Atom N>, <Atom CA>, <Atom C>, <Atom CB>, <Atom O>, <Atom CG>, <Atom CD1>, <Atom CD2>, <Atom N>, <Atom CA>, <Atom C>, <Atom CB>, <Atom O>, <Atom CG>, <Atom CD>, <Atom NE2>, <Atom OE1>, <Atom N>, <Atom CA>, <Atom C>, <Atom CB>, <Atom O>, <Atom CG>, <Atom CD1>, <Atom CD2>, <Atom CE1>, <Atom CE2>, <Atom CZ>, <Atom N>, <Atom CA>, <Atom C>, <Atom CB>, <Atom O>, <Atom CG>, <Atom CD1>, <Atom CD2>, <Atom N>, <Atom CA>, <Atom C>, <Atom CB>, <Atom O>, <Atom CG>, <Atom CD2>, <Atom ND1>, <Atom CE1>, <Atom NE2>, <Atom N>, <Atom CA>, <Atom C>, <Atom CB>, <Atom O>, <Atom CG>, <Atom CD>, <Atom OE1>, <Atom OE2>, <Atom N>, <Atom CA>, <Atom C>, <Atom CB>, <Atom O>, <Atom CG>, <Atom CD>, <Atom NE>, <Atom NH1>, <Atom NH2>, <Atom CZ>, <Atom N>, <Atom CA>, <Atom C>, <Atom CB>, <Atom O>, <Atom CG>, <Atom ND2>, <Atom OD1>, <Atom N>, <Atom CA>, <Atom C>, <Atom CB>, <Atom O>, <Atom CG1>, <Atom CG2>, <Atom CD1>, <Atom N>, <Atom CA>, <Atom C>, <Atom CB>, <Atom O>, <Atom OG>, <Atom N>, <Atom CA>, <Atom C>, <Atom CB>, <Atom O>, <Atom CG>, <Atom CD2>, <Atom ND1>, <Atom CE1>, <Atom NE2>, <Atom N>, <Atom CA>, <Atom C>, <Atom CB>, <Atom O>, <Atom CG>, <Atom CD1>, <Atom CD2>, <Atom N>, <Atom CA>, <Atom C>, <Atom CB>, <Atom O>, <Atom CG>, <Atom OD1>, <Atom OD2>, <Atom N>, <Atom CA>, <Atom C>, <Atom CB>, <Atom O>, <Atom CG>, <Atom CD1>, <Atom CD2>, <Atom N>, <Atom CA>, <Atom C>, <Atom CB>, <Atom O>, <Atom CG>, <Atom CD>, <Atom CE>, <Atom NZ>, <Atom N>, <Atom CA>, <Atom C>, <Atom CB>, <Atom O>, <Atom CG>, <Atom CD>, <Atom N>, <Atom CA>, <Atom C>, <Atom CB>, <Atom O>, <Atom CG>, <Atom CD>, <Atom NE2>, <Atom OE1>, <Atom N>, <Atom CA>, <Atom C>, <Atom CB>, <Atom O>, <Atom CG>, <Atom ND2>, <Atom OD1>, <Atom N>, <Atom CA>, <Atom C>, <Atom CB>, <Atom O>, <Atom CG1>, <Atom CG2>, <Atom CD1>, <Atom N>, <Atom CA>, <Atom C>, <Atom CB>, <Atom O>, <Atom CG>, <Atom CD1>, <Atom CD2>, <Atom N>, <Atom CA>, <Atom C>, <Atom CB>, <Atom O>, <Atom CG>, <Atom CD1>, <Atom CD2>, <Atom N>, <Atom CA>, <Atom C>, <Atom CB>, <Atom O>, <Atom OG>, <Atom N>, <Atom CA>, <Atom C>, <Atom CB>, <Atom O>, <Atom OG>, <Atom N>, <Atom CA>, <Atom C>, <Atom CB>, <Atom O>, <Atom CG>, <Atom CD1>, <Atom CD2>, <Atom N>, <Atom CA>, <Atom C>, <Atom CB>, <Atom O>, <Atom CG>, <Atom CD>, <Atom OE1>, <Atom OE2>, <Atom N>, <Atom CA>, <Atom C>, <Atom CB>, <Atom O>, <Atom CG>, <Atom CD>, <Atom CE>, <Atom NZ>, <Atom N>, <Atom CA>, <Atom C>, <Atom CB>, <Atom O>, <Atom CG>, <Atom CD>, <Atom N>, <Atom CA>, <Atom C>, <Atom CB>, <Atom O>, <Atom CG>, <Atom CD2>, <Atom ND1>, <Atom CE1>, <Atom NE2>, <Atom N>, <Atom CA>, <Atom C>, <Atom CB>, <Atom O>, <Atom CG>, <Atom CD1>, <Atom CD2>, <Atom N>, <Atom CA>, <Atom C>, <Atom CB>, <Atom O>, <Atom CG>, <Atom CD>, <Atom CE>, <Atom NZ>, <Atom N>, <Atom CA>, <Atom C>, <Atom CB>, <Atom O>, <Atom CG>, <Atom CD1>, <Atom CD2>, <Atom N>, <Atom CA>, <Atom C>, <Atom CB>, <Atom O>, <Atom N>, <Atom CA>, <Atom C>, <Atom CB>, <Atom O>, <Atom CG>, <Atom OD1>, <Atom OD2>, <Atom N>, <Atom CA>, <Atom C>, <Atom CB>, <Atom O>, <Atom CG>, <Atom CD1>, <Atom CD2>, <Atom CE1>, <Atom CE2>, <Atom CZ>, <Atom N>, <Atom CA>, <Atom C>, <Atom O>, <Atom N>, <Atom CA>, <Atom C>, <Atom CB>, <Atom O>, <Atom CG>, <Atom CD1>, <Atom CD2>, <Atom CE1>, <Atom CE2>, <Atom CZ>, <Atom N>, <Atom CA>, <Atom C>, <Atom CB>, <Atom O>, <Atom N>, <Atom CA>, <Atom C>, <Atom CB>, <Atom O>, <Atom CG>, <Atom CD>, <Atom NE2>, <Atom OE1>, <Atom N>, <Atom CA>, <Atom C>, <Atom CB>, <Atom O>, <Atom CG>, <Atom CD2>, <Atom ND1>, <Atom CE1>, <Atom NE2>, <Atom N>, <Atom CA>, <Atom C>, <Atom CB>, <Atom O>, <Atom CG>, <Atom SD>, <Atom CE>, <Atom N>, <Atom CA>, <Atom C>, <Atom CB>, <Atom O>, <Atom OG>, <Atom N>, <Atom CA>, <Atom C>, <Atom CB>, <Atom O>, <Atom CG>, <Atom CD>, <Atom N>, <Atom CA>, <Atom C>, <Atom CB>, <Atom O>, <Atom CG>, <Atom CD1>, <Atom CD2>, <Atom CE2>, <Atom CE3>, <Atom NE1>, <Atom CH2>, <Atom CZ2>, <Atom CZ3>, <Atom N>, <Atom CA>, <Atom C>, <Atom CB>, <Atom O>, <Atom CG>, <Atom OD1>, <Atom OD2>, <Atom N>, <Atom CA>, <Atom C>, <Atom CB>, <Atom O>, <Atom CG>, <Atom CD>, <Atom OE1>, <Atom OE2>, <Atom N>, <Atom CA>, <Atom C>, <Atom CB>, <Atom O>, <Atom CG>, <Atom CD>, <Atom CE>, <Atom NZ>, <Atom N>, <Atom CA>, <Atom C>, <Atom CB>, <Atom O>, <Atom CG>, <Atom CD2>, <Atom ND1>, <Atom CE1>, <Atom NE2>, <Atom N>, <Atom CA>, <Atom C>, <Atom CB>, <Atom O>, <Atom CG1>, <Atom CG2>, <Atom N>, <Atom CA>, <Atom C>, <Atom CB>, <Atom O>, <Atom CG>, <Atom CD1>, <Atom CD2>, <Atom N>, <Atom CA>, <Atom C>, <Atom CB>, <Atom O>, <Atom CG>, <Atom CD>, <Atom NE>, <Atom NH1>, <Atom NH2>, <Atom CZ>, <Atom N>, <Atom CA>, <Atom C>, <Atom O>, <Atom N>, <Atom CA>, <Atom C>, <Atom CB>, <Atom O>, <Atom OG>, <Atom N>, <Atom CA>, <Atom C>, <Atom CB>, <Atom O>, <Atom CG>, <Atom CD>, <Atom N>, <Atom CA>, <Atom C>, <Atom CB>, <Atom O>, <Atom CG>, <Atom CD1>, <Atom CD2>, <Atom N>, <Atom CA>, <Atom C>, <Atom CB>, <Atom O>, <Atom CG>, <Atom CD1>, <Atom CD2>, <Atom CE1>, <Atom CE2>, <Atom OH>, <Atom CZ>, <Atom N>, <Atom CA>, <Atom C>, <Atom CB>, <Atom O>, <Atom CG>, <Atom SD>, <Atom CE>, <Atom N>, <Atom CA>, <Atom C>, <Atom CB>, <Atom O>, <Atom N>, <Atom CA>, <Atom C>, <Atom CB>, <Atom O>, <Atom CG>, <Atom CD>, <Atom N>, <Atom CA>, <Atom C>, <Atom CB>, <Atom O>, <Atom CG>, <Atom CD>, <Atom OE1>, <Atom OE2>, <Atom N>, <Atom CA>, <Atom C>, <Atom CB>, <Atom O>, <Atom CG>, <Atom SD>, <Atom CE>, <Atom N>, <Atom CA>, <Atom C>, <Atom CB>, <Atom O>, <Atom CG1>, <Atom CG2>, <Atom N>, <Atom CA>, <Atom C>, <Atom CB>, <Atom O>, <Atom SG>, <Atom N>, <Atom CA>, <Atom C>, <Atom CB>, <Atom O>, <Atom CG>, <Atom CD>, <Atom NE2>, <Atom OE1>, <Atom N>, <Atom CA>, <Atom C>, <Atom CB>, <Atom O>, <Atom CG>, <Atom CD>, <Atom NE>, <Atom NH1>, <Atom NH2>, <Atom CZ>, <Atom N>, <Atom CA>, <Atom C>, <Atom CB>, <Atom O>, <Atom CG>, <Atom CD>, <Atom NE2>, <Atom OE1>, <Atom N>, <Atom CA>, <Atom C>, <Atom CB>, <Atom O>, <Atom CG>, <Atom CD1>, <Atom CD2>, <Atom CE1>, <Atom CE2>, <Atom OH>, <Atom CZ>, <Atom N>, <Atom CA>, <Atom C>, <Atom CB>, <Atom O>, <Atom CG>, <Atom OD1>, <Atom OD2>, <Atom N>, <Atom CA>, <Atom C>, <Atom CB>, <Atom O>, <Atom N>, <Atom CA>, <Atom C>, <Atom CB>, <Atom O>, <Atom CG>, <Atom CD>, <Atom NE>, <Atom NH1>, <Atom NH2>, <Atom CZ>, <Atom N>, <Atom CA>, <Atom C>, <Atom CB>, <Atom O>, <Atom CG1>, <Atom CG2>, <Atom N>, <Atom CA>, <Atom C>, <Atom CB>, <Atom O>, <Atom CG>, <Atom OD1>, <Atom OD2>, <Atom N>, <Atom CA>, <Atom C>, <Atom CB>, <Atom O>, <Atom CG>, <Atom CD1>, <Atom CD2>, <Atom N>, <Atom CA>, <Atom C>, <Atom CB>, <Atom O>, <Atom CG>, <Atom CD1>, <Atom CD2>, <Atom CE2>, <Atom CE3>, <Atom NE1>, <Atom CH2>, <Atom CZ2>, <Atom CZ3>, <Atom N>, <Atom CA>, <Atom C>, <Atom CB>, <Atom O>, <Atom OG>, <Atom N>, <Atom CA>, <Atom C>, <Atom CB>, <Atom O>, <Atom CG>, <Atom SD>, <Atom CE>, <Atom N>, <Atom CA>, <Atom C>, <Atom O>, <Atom N>, <Atom CA>, <Atom C>, <Atom CB>, <Atom O>, <Atom CG1>, <Atom CG2>, <Atom N>, <Atom CA>, <Atom C>, <Atom CB>, <Atom O>, <Atom CG1>, <Atom CG2>, <Atom CD1>, <Atom N>, <Atom CA>, <Atom C>, <Atom CB>, <Atom O>, <Atom CG>, <Atom CD1>, <Atom CD2>, <Atom N>, <Atom CA>, <Atom C>, <Atom CB>, <Atom O>, <Atom CG>, <Atom CD1>, <Atom CD2>, <Atom CE1>, <Atom CE2>, <Atom OH>, <Atom CZ>, <Atom N>, <Atom CA>, <Atom C>, <Atom CB>, <Atom O>, <Atom CG>, <Atom CD>, <Atom OE1>, <Atom OE2>, <Atom N>, <Atom CA>, <Atom C>, <Atom CB>, <Atom O>, <Atom N>, <Atom CA>, <Atom C>, <Atom CB>, <Atom O>, <Atom CG>, <Atom CD1>, <Atom CD2>, <Atom N>, <Atom CA>, <Atom C>, <Atom CB>, <Atom O>, <Atom CG>, <Atom CD1>, <Atom CD2>, <Atom CE1>, <Atom CE2>, <Atom CZ>, <Atom N>, <Atom CA>, <Atom C>, <Atom O>, <Atom N>, <Atom CA>, <Atom C>, <Atom CB>, <Atom O>, <Atom CG>, <Atom CD>, <Atom NE2>, <Atom OE1>, <Atom N>, <Atom CA>, <Atom C>, <Atom CB>, <Atom O>, <Atom CG>, <Atom CD>, <Atom N>, <Atom CA>, <Atom C>, <Atom CB>, <Atom O>, <Atom CG>, <Atom CD>, <Atom N>, <Atom CA>, <Atom C>, <Atom CB>, <Atom O>, <Atom CG>, <Atom CD1>, <Atom CD2>, <Atom CE1>, <Atom CE2>, <Atom CZ>, <Atom N>, <Atom CA>, <Atom C>, <Atom CB>, <Atom O>, <Atom N>, <Atom CA>, <Atom C>, <Atom CB>, <Atom O>, <Atom OG>, <Atom N>, <Atom CA>, <Atom C>, <Atom CB>, <Atom O>, <Atom CG>, <Atom CD>, <Atom NE>, <Atom NH1>, <Atom NH2>, <Atom CZ>, <Atom N>, <Atom CA>, <Atom C>, <Atom CB>, <Atom O>, <Atom OG>, <Atom N>, <Atom CA>, <Atom C>, <Atom CB>, <Atom O>, <Atom CG>, <Atom CD1>, <Atom CD2>, <Atom CE1>, <Atom CE2>, <Atom CZ>, <Atom N>, <Atom CA>, <Atom C>, <Atom CB>, <Atom O>, <Atom OG>, <Atom N>, <Atom CA>, <Atom C>, <Atom CB>, <Atom O>, <Atom CG>, <Atom CD>, <Atom OE1>, <Atom OE2>, <Atom N>, <Atom CA>, <Atom C>, <Atom CB>, <Atom O>, <Atom CG>, <Atom CD1>, <Atom CD2>, <Atom N>, <Atom CA>, <Atom C>, <Atom CB>, <Atom O>, <Atom CG>, <Atom CD>, <Atom OE1>, <Atom OE2>, <Atom N>, <Atom CA>, <Atom C>, <Atom CB>, <Atom O>, <Atom CG>, <Atom CD>, <Atom OE1>, <Atom OE2>, <Atom N>, <Atom CA>, <Atom C>, <Atom CB>, <Atom O>, <Atom CG>, <Atom CD>, <Atom CE>, <Atom NZ>, <Atom N>, <Atom CA>, <Atom C>, <Atom CB>, <Atom O>, <Atom CG1>, <Atom CG2>, <Atom CD1>, <Atom N>, <Atom CA>, <Atom C>, <Atom CB>, <Atom O>, <Atom CG>, <Atom CD>, <Atom NE>, <Atom NH1>, <Atom NH2>, <Atom CZ>, <Atom N>, <Atom CA>, <Atom C>, <Atom CB>, <Atom O>, <Atom OG>, <Atom N>, <Atom CA>, <Atom C>, <Atom CB>, <Atom O>, <Atom CG>, <Atom ND2>, <Atom OD1>, <Atom N>, <Atom CA>, <Atom C>, <Atom CB>, <Atom O>, <Atom CG>, <Atom CD>, <Atom NE>, <Atom NH1>, <Atom NH2>, <Atom CZ>, <Atom N>, <Atom CA>, <Atom C>, <Atom CB>, <Atom O>, <Atom CG1>, <Atom CG2>, <Atom N>, <Atom CA>, <Atom C>, <Atom CB>, <Atom O>, <Atom CG1>, <Atom CG2>, <Atom CD1>, <Atom N>, <Atom CA>, <Atom C>, <Atom CB>, <Atom O>, <Atom CG>, <Atom CD>, <Atom OE1>, <Atom OE2>, <Atom N>, <Atom CA>, <Atom C>, <Atom CB>, <Atom O>, <Atom CG>, <Atom CD1>, <Atom CD2>, <Atom N>, <Atom CA>, <Atom C>, <Atom CB>, <Atom O>, <Atom CG>, <Atom CD>, <Atom N>, <Atom CA>, <Atom C>, <Atom CB>, <Atom O>, <Atom CG>, <Atom CD1>, <Atom CD2>, <Atom N>, <Atom CA>, <Atom C>, <Atom CB>, <Atom O>, <Atom CG>, <Atom CD>, <Atom NE>, <Atom NH1>, <Atom NH2>, <Atom CZ>, <Atom N>, <Atom CA>, <Atom C>, <Atom CB>, <Atom O>, <Atom CG>, <Atom CD>, <Atom N>, <Atom CA>, <Atom C>, <Atom CB>, <Atom O>, <Atom CG>, <Atom CD1>, <Atom CD2>, <Atom N>, <Atom CA>, <Atom C>, <Atom CB>, <Atom O>, <Atom CG>, <Atom CD1>, <Atom CD2>, <Atom N>, <Atom CA>, <Atom C>, <Atom CB>, <Atom O>, <Atom OG>, <Atom N>, <Atom CA>, <Atom C>, <Atom CB>, <Atom O>, <Atom CG>, <Atom CD>, <Atom NE>, <Atom NH1>, <Atom NH2>, <Atom CZ>, <Atom N>, <Atom CA>, <Atom C>, <Atom CB>, <Atom O>, <Atom CG>, <Atom OD1>, <Atom OD2>, <Atom N>, <Atom CA>, <Atom C>, <Atom CB>, <Atom O>, <Atom SG>, <Atom N>, <Atom CA>, <Atom C>, <Atom CB>, <Atom O>, <Atom CG>, <Atom CD>, <Atom NE>, <Atom NH1>, <Atom NH2>, <Atom CZ>, <Atom N>, <Atom CA>, <Atom C>, <Atom CB>, <Atom O>, <Atom CG>, <Atom OD1>, <Atom OD2>, <Atom N>, <Atom CA>, <Atom C>, <Atom CB>, <Atom O>, <Atom CG>, <Atom CD1>, <Atom CD2>, <Atom N>, <Atom CA>, <Atom C>, <Atom CB>, <Atom O>, <Atom CG>, <Atom CD1>, <Atom CD2>, <Atom N>, <Atom CA>, <Atom C>, <Atom CB>, <Atom O>, <Atom CG>, <Atom CD>, <Atom NE2>, <Atom OE1>, <Atom N>, <Atom CA>, <Atom C>, <Atom CB>, <Atom O>, <Atom CG>, <Atom CD>, <Atom NE>, <Atom NH1>, <Atom NH2>, <Atom CZ>, <Atom N>, <Atom CA>, <Atom C>, <Atom CB>, <Atom O>, <Atom CG>, <Atom CD1>, <Atom CD2>, <Atom N>, <Atom CA>, <Atom C>, <Atom CB>, <Atom O>, <Atom CG>, <Atom CD1>, <Atom CD2>, <Atom N>, <Atom CA>, <Atom C>, <Atom CB>, <Atom O>, <Atom CG>, <Atom CD>, <Atom OE1>, <Atom OE2>, <Atom N>, <Atom CA>, <Atom C>, <Atom CB>, <Atom O>, <Atom CG>, <Atom CD>, <Atom NE>, <Atom NH1>, <Atom NH2>, <Atom CZ>, <Atom N>, <Atom CA>, <Atom C>, <Atom CB>, <Atom O>, <Atom CG>, <Atom OD1>, <Atom OD2>, <Atom N>, <Atom CA>, <Atom C>, <Atom CB>, <Atom O>, <Atom CG>, <Atom CD>, <Atom N>, <Atom CA>, <Atom C>, <Atom CB>, <Atom O>, <Atom OG>, <Atom N>, <Atom CA>, <Atom C>, <Atom CB>, <Atom O>, <Atom CG>, <Atom CD>, <Atom NE>, <Atom NH1>, <Atom NH2>, <Atom CZ>, <Atom N>, <Atom CA>, <Atom C>, <Atom CB>, <Atom O>, <Atom CG>, <Atom CD>, <Atom NE>, <Atom NH1>, <Atom NH2>, <Atom CZ>, <Atom N>, <Atom CA>, <Atom C>, <Atom CB>, <Atom O>, <Atom CG1>, <Atom CG2>, <Atom CD1>, <Atom N>, <Atom CA>, <Atom C>, <Atom CB>, <Atom O>, <Atom OG>, <Atom N>, <Atom CA>, <Atom C>, <Atom CB>, <Atom O>, <Atom CG>, <Atom CD1>, <Atom CD2>, <Atom CE1>, <Atom CE2>, <Atom CZ>, <Atom N>, <Atom CA>, <Atom C>, <Atom CB>, <Atom O>, <Atom CG>, <Atom CD>, <Atom NE2>, <Atom OE1>, <Atom N>, <Atom CA>, <Atom C>, <Atom CB>, <Atom O>, <Atom CG>, <Atom OD1>, <Atom OD2>, <Atom N>, <Atom CA>, <Atom C>, <Atom CB>, <Atom O>, <Atom CG>, <Atom CD1>, <Atom CD2>, <Atom CE1>, <Atom CE2>, <Atom CZ>, <Atom N>, <Atom CA>, <Atom C>, <Atom CB>, <Atom O>, <Atom CG>, <Atom CD1>, <Atom CD2>, <Atom CE1>, <Atom CE2>, <Atom CZ>, <Atom N>, <Atom CA>, <Atom C>, <Atom CB>, <Atom O>, <Atom N>, <Atom CA>, <Atom C>, <Atom CB>, <Atom O>, <Atom CG>, <Atom CD2>, <Atom ND1>, <Atom CE1>, <Atom NE2>, <Atom N>, <Atom CA>, <Atom C>, <Atom CB>, <Atom O>, <Atom CG>, <Atom CD>, <Atom N>, <Atom CA>, <Atom C>, <Atom CB>, <Atom O>, <Atom CG>, <Atom CD1>, <Atom CD2>, <Atom CE2>, <Atom CE3>, <Atom NE1>, <Atom CH2>, <Atom CZ2>, <Atom CZ3>, <Atom N>, <Atom CA>, <Atom C>, <Atom CB>, <Atom O>, <Atom CG1>, <Atom CG2>] \n",
      "\n",
      "\n",
      "91.18330739299611\n"
     ]
    }
   ],
   "source": [
    "### \n",
    "inputfile = \"./ULK3_test1.pdb\" \n",
    "\n",
    "\n",
    "structure = PDBParser(PERMISSIVE = False , QUIET=False).get_structure('X',inputfile)\n",
    "\n",
    "atom_list = structure.get_atoms()  ## its actually a generator , that get emptied when cycled ## need residues ??? \n",
    "\n",
    " # print('atom_list : \\n ', [i for i in atom_list],'\\n\\n')\n",
    "\n",
    "\n",
    "residue_list = structure.get_residues() ## its actually a generator , that get emptied when cycled\n",
    "\n",
    "totalBfactor = [] \n",
    "for res in residue_list:\n",
    "    ResAtom  = res.get_atoms()\n",
    "    bfactorlist = [] \n",
    "    for atom in ResAtom: \n",
    "        bfactorlist.append(atom.get_bfactor()) \n",
    "        \n",
    "    AveragePerRes= statistics.mean(bfactorlist) \n",
    "    bfactorlist = [] \n",
    "    totalBfactor.append(AveragePerRes)\n",
    "\n",
    "AverageProtBfactor = statistics.mean(totalBfactor) \n",
    "totalBfactor = [] \n",
    "print(AverageProtBfactor )\n"
   ]
  },
  {
   "cell_type": "code",
   "execution_count": null,
   "metadata": {},
   "outputs": [],
   "source": [
    "def findBfactor(structurefile):  \n",
    "    ## Parse pdb into biopython \n",
    "    structure = PDBParser(PERMISSIVE = False , QUIET=False).get_structure('X',structurefile)\n",
    "    residue_list = structure.get_residues() ## its actually a generator , that get emptied when cycled\n",
    "    \n",
    "    \n",
    "    ## go to individaul residues to get the individual atoms \n",
    "    totalBfactor = [] # Clear \n",
    "    for res in residue_list:\n",
    "        ResAtom  = res.get_atoms()\n",
    "        \n",
    "        ## collect average Bfactor/PlDDT from these atoms \n",
    "        bfactorlist = []  # clear \n",
    "        for atom in ResAtom: \n",
    "            bfactorlist.append(atom.get_bfactor()) \n",
    "        \n",
    "        ## Average out and add to the total residues number Bfactor/PlDDT \n",
    "        AveragePerRes= statistics.mean(bfactorlist) \n",
    "        bfactorlist = []  # Clear \n",
    "        totalBfactor.append(AveragePerRes) \n",
    "        \n",
    "        \n",
    "    # average all the residues's Bfactor/PlDDT \n",
    "    AverageProtBfactor = statistics.mean(totalBfactor) \n",
    "    totalBfactor = []  # clear \n",
    "    print (\"PLDDT / Bfactor of this structure is  -- {}\".format(AverageProtBfactor)) \n",
    "    return AverageProtBfactor"
   ]
  },
  {
   "cell_type": "code",
   "execution_count": null,
   "metadata": {},
   "outputs": [],
   "source": []
  }
 ],
 "metadata": {
  "kernelspec": {
   "display_name": "harmonic",
   "language": "python",
   "name": "python3"
  },
  "language_info": {
   "name": "python",
   "version": "3.11.4"
  }
 },
 "nbformat": 4,
 "nbformat_minor": 2
}
